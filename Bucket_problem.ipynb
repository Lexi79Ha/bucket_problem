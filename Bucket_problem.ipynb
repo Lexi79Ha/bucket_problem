{
 "cells": [
  {
   "cell_type": "code",
   "outputs": [
    {
     "name": "stdout",
     "output_type": "stream",
     "text": [
      "Step 1: Filled 5-gallon bucket. (5 gallons in 5-gallon bucket, 0 gallons in 3-gallon bucket)\n",
      "Step 2: Poured 3 gallons from 5-gallon bucket to 3-gallon bucket. (2 gallons in 5-gallon bucket, 3 gallons in 3-gallon bucket)\n",
      "Step 3: Emptied 3-gallon bucket. (2 gallons in 5-gallon bucket, 0 gallons in 3-gallon bucket)\n",
      "Step 4: Poured 2 gallons from 5-gallon bucket to 3-gallon bucket. (0 gallons in 5-gallon bucket, 2 gallons in 3-gallon bucket)\n",
      "Step 5: Filled 5-gallon bucket. (5 gallons in 5-gallon bucket, 2 gallons in 3-gallon bucket)\n",
      "Step 6: Poured 1 gallons from 5-gallon bucket to 3-gallon bucket. (4 gallons in 5-gallon bucket, 3 gallons in 3-gallon bucket)\n",
      "Desired result achieved in 6 steps: 5-gallon bucket has 4 gallons of water\n"
     ]
    }
   ],
   "source": [
    "# This script uses python 3.12 to solve the 4 gallon bucket problem\n",
    "# The parameters of the problem is that you have to fetch exactly 4 gallons of water from a stream using only an unmarked 5 gallon bucket, and an unmarked 3 gallon bucket in less than 15 steps.\n",
    "\n",
    "def measure_water():\n",
    "    three_gallon_bucket = 0 # Each bucket begins with no water\n",
    "    five_gallon_bucket = 0\n",
    "    steps = 0\n",
    "\n",
    "    while five_gallon_bucket != 4 and three_gallon_bucket != 4:\n",
    "        # Fill the 5-gallon bucket\n",
    "        if five_gallon_bucket == 0:\n",
    "            five_gallon_bucket = 5 # Max amount of water for the five_gallon_bucket\n",
    "            steps += 1 # Every step will be counted to measure if its staying within the problems parameters of less than 15 steps\n",
    "            print(f\"Step {steps}: Filled 5-gallon bucket. (5 gallons in 5-gallon bucket, {three_gallon_bucket} gallons in 3-gallon bucket)\")\n",
    "        # Pour the 5-gallon bucket into the 3-gallon bucket\n",
    "        elif three_gallon_bucket < 3: #If three_three_gallon bucket is less that 3, five gallon bucket will pour into it\n",
    "            transfer = min(five_gallon_bucket, 3 - three_gallon_bucket)\n",
    "            three_gallon_bucket += transfer\n",
    "            five_gallon_bucket -= transfer\n",
    "            steps += 1 # Every step will be counted to measure if its staying within the problems parameters of less than 15 steps\n",
    "            print(f\"Step {steps}: Poured {transfer} gallons from 5-gallon bucket to 3-gallon bucket. ({five_gallon_bucket} gallons in 5-gallon bucket, {three_gallon_bucket} gallons in 3-gallon bucket)\")\n",
    "        # Empty the 3-gallon bucket\n",
    "        else:\n",
    "            three_gallon_bucket = 0\n",
    "            steps += 1\n",
    "            print(f\"Step {steps}: Emptied 3-gallon bucket. ({five_gallon_bucket} gallons in 5-gallon bucket, 0 gallons in 3-gallon bucket)\")\n",
    "\n",
    "    if five_gallon_bucket == 4:\n",
    "        return f\"Desired result achieved in {steps} steps: 5-gallon bucket has 4 gallons of water\"\n",
    "    elif three_gallon_bucket == 4:\n",
    "        return f\"Desired result achieved in {steps} steps: 3-gallon bucket has 4 gallons of water\"\n",
    "    else:\n",
    "        return \"Desired result not achieved\"\n",
    "\n",
    "result = measure_water()\n",
    "print(result)"
   ],
   "metadata": {
    "collapsed": false,
    "ExecuteTime": {
     "end_time": "2024-03-28T17:00:38.666190300Z",
     "start_time": "2024-03-28T17:00:38.637488300Z"
    }
   },
   "id": "d98dfdd74ae65685",
   "execution_count": 5
  },
  {
   "cell_type": "code",
   "outputs": [],
   "source": [],
   "metadata": {
    "collapsed": false
   },
   "id": "4686eee6d14f8cea"
  }
 ],
 "metadata": {
  "kernelspec": {
   "display_name": "Python 3",
   "language": "python",
   "name": "python3"
  },
  "language_info": {
   "codemirror_mode": {
    "name": "ipython",
    "version": 2
   },
   "file_extension": ".py",
   "mimetype": "text/x-python",
   "name": "python",
   "nbconvert_exporter": "python",
   "pygments_lexer": "ipython2",
   "version": "2.7.6"
  }
 },
 "nbformat": 4,
 "nbformat_minor": 5
}
